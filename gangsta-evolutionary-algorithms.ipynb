{
 "cells": [
  {
   "cell_type": "code",
   "execution_count": 1,
   "metadata": {},
   "outputs": [
    {
     "data": {
      "text/plain": [
       "[[0.016906308913803514, -4.6302446], [0.04639955722864553, -0.0787489]]"
      ]
     },
     "execution_count": 1,
     "metadata": {},
     "output_type": "execute_result"
    }
   ],
   "source": [
    "import random\n",
    "import math\n",
    "\n",
    "def f(x):\n",
    "    return x**4 + 101*x + 8\n",
    "\n",
    "optimal_f = 0 #to optimize fuction f\n",
    "error_allowance = 0.09 #absolute tolerance value\n",
    "n_species = 100000 #number of iterations\n",
    "candidate_x = [] # \"FIT\" species\n",
    "\n",
    "def fitness_test(f, x, optimal_f):\n",
    "    f_val = f(x)\n",
    "    error = math.sqrt((optimal_f - f_val)**2) #rms error\n",
    "    return error\n",
    "\n",
    "for i in range(n_species):\n",
    "    k = round(random.uniform(-100,100), 7)\n",
    "    error = fitness_test(f, k, optimal_f)\n",
    "    if error < error_allowance:\n",
    "        candidate_x.append([error, k])\n",
    "\n",
    "sorted(candidate_x)"
   ]
  },
  {
   "cell_type": "code",
   "execution_count": 2,
   "metadata": {},
   "outputs": [
    {
     "data": {
      "text/plain": [
       "[[0.0024761009000009437, -2.99753],\n",
       " [0.006177699600002029, -2.99386],\n",
       " [0.008496555099998915, -3.99143],\n",
       " [0.00997839359999908, -3.98992]]"
      ]
     },
     "execution_count": 2,
     "metadata": {},
     "output_type": "execute_result"
    }
   ],
   "source": [
    "import random\n",
    "import math\n",
    "\n",
    "def quadratic(x):\n",
    "    return x**2 + 7*x + 12 #a simple quadratic function\n",
    "\n",
    "optimal_val = 0 #to optimize fuction f\n",
    "error_allowance = 0.01 #absolute tolerance value\n",
    "n_species = 10000 #number of iterations\n",
    "possible_x = [] # \"FIT\" species\n",
    "\n",
    "def fitness_test(f, x, optimal_f):\n",
    "    f_val = f(x)\n",
    "    error = math.sqrt((optimal_f - f_val)**2) #rms error\n",
    "    return error\n",
    "\n",
    "for i in range(n_species):\n",
    "    k = round(random.uniform(-100,100), 5)\n",
    "    error = fitness_test(quadratic, k, optimal_val)\n",
    "    if error < error_allowance:\n",
    "        possible_x.append([error, k])\n",
    "\n",
    "sorted(possible_x)"
   ]
  },
  {
   "cell_type": "code",
   "execution_count": null,
   "metadata": {},
   "outputs": [],
   "source": []
  }
 ],
 "metadata": {
  "kernelspec": {
   "display_name": "Python 3",
   "language": "python",
   "name": "python3"
  },
  "language_info": {
   "codemirror_mode": {
    "name": "ipython",
    "version": 3
   },
   "file_extension": ".py",
   "mimetype": "text/x-python",
   "name": "python",
   "nbconvert_exporter": "python",
   "pygments_lexer": "ipython3",
   "version": "3.6.6"
  }
 },
 "nbformat": 4,
 "nbformat_minor": 2
}
